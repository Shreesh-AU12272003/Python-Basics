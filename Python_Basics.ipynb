{
  "nbformat": 4,
  "nbformat_minor": 0,
  "metadata": {
    "colab": {
      "provenance": []
    },
    "kernelspec": {
      "name": "python3",
      "display_name": "Python 3"
    },
    "language_info": {
      "name": "python"
    }
  },
  "cells": [
    {
      "cell_type": "markdown",
      "source": [
        "**Python Basics Questions**"
      ],
      "metadata": {
        "id": "uPgpFhJk-Jac"
      }
    },
    {
      "cell_type": "markdown",
      "source": [
        "1. **What is Python, and why is it popular?**\n",
        "   - Python is a high-level, interpreted programming language known for its   simplicity, readability, and versatility. It is popular due to its easy syntax, and vast libraries which helpful to manipulate the data and finding insights from it for developement and also for machine learning.\n",
        "\n",
        "2. **What is an interpreter in Python?**\n",
        "   - An interpreter is a program that executes Python code line by line, converting it into machine code at runtime.\n",
        "  \n",
        "3. **What are pre-defined keywords in Python?**\n",
        "   - Pre-defined keywords are reserved words in Python that have their own calls by there meaning, such as if, else, while, def, return, True, and False.\n",
        "  \n",
        "4. **Can keywords be used as variable names?**\n",
        "   - No, keywords cannot be used as variable names as they have predefined meanings, and if someone forcefully do it gives error.\n",
        "\n",
        "5. **What is mutability in Python?**\n",
        "   - Mutability refers to whether a state an object’s value can be changed after creation. Mutable objects (like lists) can be modified, while immutable objects (like tuples / strings) cannot be modified after creation.\n",
        "\n",
        "6. **Why are lists mutable, but tuples are immutable?**\n",
        "   - Lists are designed for dynamic data, allowing modification, whereas tuples are optimized for fixed data, making them immutable to ensure stability and performance.\n",
        "\n",
        "7. **What is the difference between == and is operators in Python?**\n",
        "   - == checks for value equality (whether two variables contain the same value).\n",
        "   Is checks for identity equality (whether two variables point to the same memory location).\n",
        "\n",
        "8. **What are logical operators in Python?**\n",
        "   - Logical operators are used for boolean logic:\n",
        "\n",
        "    and (both conditions must be True)\n",
        "    or (at least one condition must be True)\n",
        "    not (negates a condition)\n",
        "\n",
        "9. **What is type casting in Python?**\n",
        "   - Type casting is converting one data type to another, such as int(\"10\") to convert a string \"10\" into an integer.\n",
        "\n",
        "10. **What is the difference between implicit and explicit type casting?**\n",
        "    - Implicit casting is done automatically by Python (e.g., int to float in 3 + 4.5 results in 7.5). Whereas, Explicit casting requires manual conversion using functions like - int(), float(), str(), etc.\n",
        "\n",
        "11. **What is the purpose of conditional statements in Python?**\n",
        "    - statements (if, elif, else) control the flow of execution based on conditions. It check wheather all the given parameters are accurate as per instruction or not.\n",
        "\n",
        "12. **How does the elif statement work?**\n",
        "    - elif (short for \"else if\") allows checking multiple conditions in an if statement.\n",
        "\n",
        "13. **What is the difference between for and while loops?**\n",
        "    - for loops iterate over a sequence (like a range). Whereas, while loops execute as long as a condition is true.\n",
        "\n",
        "14. **Describe a scenario where a while loop is more suitable than a for loop.**\n",
        "    - A while loop is better when the number of iterations is unknown, such as waiting for user input in a menu-driven program."
      ],
      "metadata": {
        "id": "CA_cjFBu367h"
      }
    },
    {
      "cell_type": "markdown",
      "source": [
        "**Practical Questions**"
      ],
      "metadata": {
        "id": "9IzDL1hd-A9a"
      }
    },
    {
      "cell_type": "code",
      "source": [
        "#1. Print \"Hello, World!\"\n",
        "\n",
        "print(\"Hello, World!\")"
      ],
      "metadata": {
        "collapsed": true,
        "id": "QvSwPuc2-QUD"
      },
      "execution_count": null,
      "outputs": []
    },
    {
      "cell_type": "code",
      "source": [
        "#2. Display your name and age\n",
        "\n",
        "name = \"Shreesh Pandey\"\n",
        "age = 23\n",
        "print(f\"My name is {name}, I'm {age} years old!\")"
      ],
      "metadata": {
        "id": "33f5jFX9-pFY"
      },
      "execution_count": null,
      "outputs": []
    },
    {
      "cell_type": "code",
      "source": [
        "#3. Print all pre-defined keywords in Python using the keyword library\n",
        "\n",
        "import keyword\n",
        "print(keyword.kwlist)"
      ],
      "metadata": {
        "id": "5m8L0gwj_HT2"
      },
      "execution_count": null,
      "outputs": []
    },
    {
      "cell_type": "code",
      "source": [
        "#4. Check if a given word is a Python keyword\n",
        "\n",
        "user_input = input(\"Enter a word: \")\n",
        "print(f\"{user_input} is a keyword: {keyword.iskeyword(user_input)}\")"
      ],
      "metadata": {
        "id": "-LXeGgfk_X83"
      },
      "execution_count": null,
      "outputs": []
    },
    {
      "cell_type": "code",
      "source": [
        "#5. Create a list and tuple and demonstrate immutability\n",
        "\n",
        "my_list = [1, 2, 3]\n",
        "my_tuple = (1, 2, 3)\n",
        "\n",
        "print(my_list)\n",
        "print(my_tuple)\n",
        "\n",
        "my_list[0] = 10  # Works\n",
        "#my_tuple[0] = 10  # This will cause an error because tuples are immutable\n",
        "# Note: remove hash before my_tuple[0] to check an error\n",
        "\n",
        "print(my_list)\n",
        "print(my_tuple)"
      ],
      "metadata": {
        "id": "gACHMMqgASt-"
      },
      "execution_count": null,
      "outputs": []
    },
    {
      "cell_type": "code",
      "source": [
        "#6. Function demonstrating mutable and immutable arguments\n",
        "\n",
        "def modify_values(a, b):\n",
        "    a += 1  # Immutable\n",
        "    b.append(4)  # Mutable\n",
        "\n",
        "x = 5\n",
        "y = [1, 2, 3]\n",
        "modify_values(x, y)\n",
        "\n",
        "print(x)  # x remains 5\n",
        "print(y)  # y is modified to [1, 2, 3, 4]\n"
      ],
      "metadata": {
        "id": "Lfr8lLEGApas"
      },
      "execution_count": null,
      "outputs": []
    },
    {
      "cell_type": "code",
      "source": [
        "#7. Program using logical operators\n",
        "\n",
        "a = 10\n",
        "b = 20\n",
        "c = 30\n",
        "\n",
        "if a < b and b < c:\n",
        "    print(\"Both conditions are true (a < b and b < c)\")\n",
        "\n",
        "if a > b or b < c:\n",
        "    print(\"At least one condition is true (a > b or b < c)\")\n",
        "\n",
        "condition = a > b\n",
        "print(\"Condition (a > b) before NOT:\", condition)\n",
        "print(\"Condition after applying NOT:\", not condition)\n"
      ],
      "metadata": {
        "id": "49fzZZyuBNG5"
      },
      "execution_count": null,
      "outputs": []
    },
    {
      "cell_type": "code",
      "source": [
        "#8. Convert user input from string to int, float, and boolean\n",
        "\n",
        "user_input = input(\"Enter a value: \")\n",
        "print(int(user_input))\n",
        "print(float(user_input))\n",
        "print(bool(user_input))"
      ],
      "metadata": {
        "id": "_SbmuNE1CSwW"
      },
      "execution_count": null,
      "outputs": []
    },
    {
      "cell_type": "code",
      "source": [
        "#9. Demonstrate type casting with list elements\n",
        "\n",
        "my_list = [\"1\", \"2\", \"3\"]\n",
        "int_list = list(map(int, my_list))\n",
        "print(int_list)"
      ],
      "metadata": {
        "id": "vFDhMUy9CAVP"
      },
      "execution_count": null,
      "outputs": []
    },
    {
      "cell_type": "code",
      "source": [
        "#10. Check if a number is positive, negative, or zero\n",
        "\n",
        "num = int(input(\"Enter a number: \"))\n",
        "if num > 0:\n",
        "    print(\"Positive\")\n",
        "elif num < 0:\n",
        "    print(\"Negative\")\n",
        "else:\n",
        "    print(\"Zero\")"
      ],
      "metadata": {
        "id": "SF3XHWP2CGkk"
      },
      "execution_count": null,
      "outputs": []
    },
    {
      "cell_type": "code",
      "source": [
        "#11. For loop to print numbers from 1 to 10\n",
        "\n",
        "for i in range(1, 11):\n",
        "    print(i)"
      ],
      "metadata": {
        "id": "6tzyGl-fCkP1"
      },
      "execution_count": null,
      "outputs": []
    },
    {
      "cell_type": "code",
      "source": [
        "#12. Sum of all even numbers between 1 and 50\n",
        "\n",
        "total = 0\n",
        "\n",
        "for num in range(2, 51, 2):\n",
        "    total = total + num\n",
        "\n",
        "print(\"Sum of even numbers:\", total)"
      ],
      "metadata": {
        "id": "Ki1CuHruCrAW"
      },
      "execution_count": null,
      "outputs": []
    },
    {
      "cell_type": "code",
      "source": [
        "#13. Reverse a string using a while loop\n",
        "\n",
        "string = input(\"Enter a string: \")\n",
        "reversed_string = \"\"\n",
        "i = len(string) - 1\n",
        "while i >= 0:\n",
        "    reversed_string += string[i]\n",
        "    i -= 1\n",
        "print(\"Reversed String:\", reversed_string)"
      ],
      "metadata": {
        "id": "JA8ljCkDCsaX"
      },
      "execution_count": null,
      "outputs": []
    }
  ]
}